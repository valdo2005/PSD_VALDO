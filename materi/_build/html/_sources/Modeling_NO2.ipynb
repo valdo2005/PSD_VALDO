{
  "cells": [
    {
      "cell_type": "markdown",
      "metadata": {
        "id": "ubdM4qHXkEf6"
      },
      "source": [
        "# Modeling Data NO2 Kota Pematangsiantar Menggunakan KNN Regresion\n",
        "K-Nearest Neighbors (KNN) Regression adalah salah satu metode dalam machine learning yang melakukan prediksi berdasarkan kedekatan data baru dengan beberapa data historis yang mirip. Pada proses prediksi, algoritma akan mencari K data terdekat (nearest neighbors) lalu menghitung rata-rata dari nilai target pada tetangga tersebut sebagai hasil prediksi.\n",
        "\n",
        "\n",
        "Dalam konteks kasus prediksi NO₂, nilai lag (misalnya NO₂ dua hari sebelumnya hingga lima hari sebelumnya) digunakan sebagai fitur yang menggambarkan kondisi historis. KNN kemudian akan mencari periode di masa lalu yang memiliki pola lag yang mirip, lalu memprediksi kadar NO₂ besok dengan mengambil rata-rata kadar NO₂ yang terjadi pada periode-periode yang mirip tersebut.\n",
        "\n",
        "\n",
        "Dalam modeling ini dibuat sesuai dengan eksperiment data supervised yaitu dengan data yang menggunakan 2 hari sebelumnya hingga 5 hari"
      ]
    },
    {
      "cell_type": "markdown",
      "metadata": {
        "id": "2kPT3eurlsP-"
      },
      "source": [
        "## Import Library yang Diperlukan"
      ]
    },
    {
      "cell_type": "code",
      "execution_count": 29,
      "metadata": {
        "id": "xmOiJgZWMLEV"
      },
      "outputs": [],
      "source": [
        "import pandas as pd\n",
        "import matplotlib.pyplot as plt\n",
        "import numpy as np\n",
        "from sklearn.model_selection import train_test_split\n",
        "from sklearn.neighbors import KNeighborsRegressor\n",
        "from sklearn.metrics import mean_squared_error, r2_score, mean_absolute_error\n",
        "from sklearn.preprocessing import StandardScaler"
      ]
    },
    {
      "cell_type": "markdown",
      "metadata": {
        "id": "8fQ_6YJxl6iX"
      },
      "source": [
        "## Membaca Dokumen"
      ]
    },
    {
      "cell_type": "code",
      "execution_count": 30,
      "metadata": {
        "id": "Km3smeLql3bj"
      },
      "outputs": [],
      "source": [
        "day1 = pd.read_csv('no2_results/day1_supervised.csv')\n",
        "day2 = pd.read_csv('no2_results/day2_supervised.csv')\n",
        "day3 = pd.read_csv('no2_results/day3_supervised.csv')\n",
        "day4 = pd.read_csv('no2_results/day4_supervised.csv')\n",
        "day5 = pd.read_csv('no2_results/day5_supervised.csv')"
      ]
    },
    {
      "cell_type": "markdown",
      "metadata": {
        "id": "IFJwyNJCprGs"
      },
      "source": [
        "## Modeling\n"
      ]
    },
    {
      "cell_type": "code",
      "execution_count": 31,
      "metadata": {
        "colab": {
          "base_uri": "https://localhost:8080/"
        },
        "id": "lsXq5WiZmkCD",
        "outputId": "ed2a03e0-ba79-4e86-fb9f-f722d65f49b1"
      },
      "outputs": [
        {
          "name": "stdout",
          "output_type": "stream",
          "text": [
            "MSE: 2.3340687676750638e-11\n",
            "MAE: 4.237923514395689e-06\n",
            "R2: 0.19787520577418583\n"
          ]
        }
      ],
      "source": [
        "X = day1.drop(columns=['NO2'])\n",
        "y = day1['NO2']\n",
        "\n",
        "# Train-test split\n",
        "X_train, X_test, y_train, y_test = train_test_split(X, y, test_size=0.2, random_state=42)\n",
        "\n",
        "# Normalization\n",
        "scaler = StandardScaler()\n",
        "X_train_scaled = scaler.fit_transform(X_train)\n",
        "X_test_scaled = scaler.transform(X_test)\n",
        "\n",
        "# KNN Regression\n",
        "knn = KNeighborsRegressor(n_neighbors=12)\n",
        "knn.fit(X_train_scaled, y_train)\n",
        "day1_predict = knn.predict(X_test_scaled)\n",
        "r2_day1 = r2_score(y_test, day1_predict)\n",
        "mse_day1 = mean_squared_error(y_test, day1_predict)\n",
        "mae_day1 = mean_absolute_error(y_test, day1_predict)\n",
        "\n",
        "print(\"MSE:\", mse_day1)\n",
        "print(\"MAE:\", mae_day1)\n",
        "print(\"R2:\", r2_day1)"
      ]
    },
    {
      "cell_type": "code",
      "execution_count": 32,
      "metadata": {
        "colab": {
          "base_uri": "https://localhost:8080/"
        },
        "id": "gzTiorL0p3qe",
        "outputId": "4331d2a4-ef72-4995-9d82-5cc48aad103e"
      },
      "outputs": [
        {
          "name": "stdout",
          "output_type": "stream",
          "text": [
            "MSE: 2.860493243673197e-11\n",
            "MAE: 4.318488414041033e-06\n",
            "R2: 0.3670546377734055\n"
          ]
        }
      ],
      "source": [
        "X = day2.drop(columns=['NO2'])\n",
        "y = day2['NO2']\n",
        "\n",
        "# Train-test split\n",
        "X_train, X_test, y_train, y_test = train_test_split(X, y, test_size=0.2, random_state=42)\n",
        "\n",
        "# Normalization\n",
        "scaler = StandardScaler()\n",
        "X_train_scaled = scaler.fit_transform(X_train)\n",
        "X_test_scaled = scaler.transform(X_test)\n",
        "\n",
        "# KNN Regression\n",
        "knn = KNeighborsRegressor(n_neighbors=12)\n",
        "knn.fit(X_train_scaled, y_train)\n",
        "day2_predict = knn.predict(X_test_scaled)\n",
        "r2_day2 = r2_score(y_test, day2_predict)\n",
        "mse_day2 = mean_squared_error(y_test, day2_predict)\n",
        "mae_day2 = mean_absolute_error(y_test, day2_predict)\n",
        "\n",
        "print(\"MSE:\", mse_day2)\n",
        "print(\"MAE:\", mae_day2)\n",
        "print(\"R2:\", r2_day2)"
      ]
    },
    {
      "cell_type": "code",
      "execution_count": 33,
      "metadata": {
        "colab": {
          "base_uri": "https://localhost:8080/"
        },
        "id": "Ieqoxf6Mp6yT",
        "outputId": "7b806efe-9c39-4e81-da4b-d51b6dafb009"
      },
      "outputs": [
        {
          "name": "stdout",
          "output_type": "stream",
          "text": [
            "MSE: 1.5930914763361616e-11\n",
            "MAE: 3.252582422433918e-06\n",
            "R2: 0.4960131068138045\n"
          ]
        }
      ],
      "source": [
        "X = day3.drop(columns=['NO2'])\n",
        "y = day3['NO2']\n",
        "\n",
        "# Train-test split\n",
        "X_train, X_test, y_train, y_test = train_test_split(X, y, test_size=0.2, random_state=42)\n",
        "\n",
        "# Normalization\n",
        "scaler = StandardScaler()\n",
        "X_train_scaled = scaler.fit_transform(X_train)\n",
        "X_test_scaled = scaler.transform(X_test)\n",
        "\n",
        "# KNN Regression\n",
        "knn = KNeighborsRegressor(n_neighbors=12)\n",
        "knn.fit(X_train_scaled, y_train)\n",
        "day3_predict = knn.predict(X_test_scaled)\n",
        "r2_day3 = r2_score(y_test, day3_predict)\n",
        "mse_day3 = mean_squared_error(y_test, day3_predict)\n",
        "mae_day3 = mean_absolute_error(y_test, day3_predict)\n",
        "\n",
        "print(\"MSE:\", mse_day3)\n",
        "print(\"MAE:\", mae_day3)\n",
        "print(\"R2:\", r2_day3)"
      ]
    },
    {
      "cell_type": "code",
      "execution_count": 34,
      "metadata": {
        "colab": {
          "base_uri": "https://localhost:8080/"
        },
        "id": "PWV67Y6Ap8wB",
        "outputId": "f5471c81-b555-4784-9714-37cc2cda092c"
      },
      "outputs": [
        {
          "name": "stdout",
          "output_type": "stream",
          "text": [
            "MSE: 1.561549333309835e-11\n",
            "MAE: 3.0332534638377945e-06\n",
            "R2: 0.44014425293104076\n"
          ]
        }
      ],
      "source": [
        "X = day4.drop(columns=['NO2'])\n",
        "y = day4['NO2']\n",
        "\n",
        "# Train-test split\n",
        "X_train, X_test, y_train, y_test = train_test_split(X, y, test_size=0.2, random_state=42)\n",
        "\n",
        "# Normalization\n",
        "scaler = StandardScaler()\n",
        "X_train_scaled = scaler.fit_transform(X_train)\n",
        "X_test_scaled = scaler.transform(X_test)\n",
        "\n",
        "# KNN Regression\n",
        "knn = KNeighborsRegressor(n_neighbors=12)\n",
        "knn.fit(X_train_scaled, y_train)\n",
        "day4_predict = knn.predict(X_test_scaled)\n",
        "r2_day4 = r2_score(y_test, day4_predict)\n",
        "mse_day4 = mean_squared_error(y_test, day4_predict)\n",
        "mae_day4 = mean_absolute_error(y_test, day4_predict)\n",
        "\n",
        "print(\"MSE:\", mse_day4)\n",
        "print(\"MAE:\", mae_day4)\n",
        "print(\"R2:\", r2_day4)"
      ]
    },
    {
      "cell_type": "code",
      "execution_count": 35,
      "metadata": {
        "colab": {
          "base_uri": "https://localhost:8080/"
        },
        "id": "0B9Q0a-DqBkC",
        "outputId": "2168eb59-60fb-4036-9d81-ac63a3b23085"
      },
      "outputs": [
        {
          "name": "stdout",
          "output_type": "stream",
          "text": [
            "MSE: 1.775044810381119e-11\n",
            "MAE: 3.4635497960824906e-06\n",
            "R2: 0.5167941369873236\n"
          ]
        }
      ],
      "source": [
        "X = day5.drop(columns=['NO2'])\n",
        "y = day5['NO2']\n",
        "\n",
        "# Train-test split\n",
        "X_train, X_test, y_train, y_test = train_test_split(X, y, test_size=0.2, random_state=42)\n",
        "\n",
        "# Normalization\n",
        "scaler = StandardScaler()\n",
        "X_train_scaled = scaler.fit_transform(X_train)\n",
        "X_test_scaled = scaler.transform(X_test)\n",
        "\n",
        "# KNN Regression\n",
        "knn = KNeighborsRegressor(n_neighbors=12)\n",
        "knn.fit(X_train_scaled, y_train)\n",
        "day5_predict = knn.predict(X_test_scaled)\n",
        "r2_day5 = r2_score(y_test, day5_predict)\n",
        "mse_day5 = mean_squared_error(y_test, day5_predict)\n",
        "mae_day5 = mean_absolute_error(y_test, day5_predict)\n",
        "\n",
        "print(\"MSE:\", mse_day5)\n",
        "print(\"MAE:\", mae_day5)\n",
        "print(\"R2:\", r2_day5)"
      ]
    },
    {
      "cell_type": "code",
      "execution_count": 36,
      "metadata": {
        "colab": {
          "base_uri": "https://localhost:8080/",
          "height": 487
        },
        "id": "71eSWp29qD3m",
        "outputId": "f1074fc3-786f-409d-f7ad-429585f480ee"
      },
      "outputs": [
        {
          "data": {
            "image/png": "[encoded data removed]",
            "text/plain": [
              "<Figure size 640x480 with 1 Axes>"
            ]
          },
          "metadata": {},
          "output_type": "display_data"
        }
      ],
      "source": [
        "import matplotlib.pyplot as plt\n",
        "\n",
        "x = ['1 hari', '2 hari', '3 hari', '4 hari', '5 hari']\n",
        "y = [r2_day1, r2_day2, r2_day3, r2_day4, r2_day5]\n",
        "\n",
        "colors = ['#E74C3C', '#F39C12', '#F1C40F', '#27AE60']\n",
        "bars = plt.bar(x, y, color=colors, edgecolor='black', linewidth=1)\n",
        "\n",
        "for i, bar in enumerate(bars):\n",
        "    height = bar.get_height()\n",
        "    plt.text(bar.get_x() + bar.get_width()/2., height + 0.005,\n",
        "             f'{y[i]:.3f}', ha='center', va='bottom',\n",
        "             fontweight='bold', fontsize=10)\n",
        "\n",
        "plt.title('R-squared Values for Different Days', fontsize=16, fontweight='bold', pad=20)\n",
        "plt.xlabel('Jumlah Hari', fontsize=12, fontweight='bold')\n",
        "plt.ylabel('R-squared Score', fontsize=12, fontweight='bold')\n",
        "plt.ylim(0, max(y) + 0.05)\n",
        "plt.grid(True, alpha=0.3, linestyle='--')\n",
        "plt.tight_layout()\n",
        "plt.show()"
      ]
    },
    {
      "cell_type": "code",
      "execution_count": 37,
      "metadata": {
        "colab": {
          "base_uri": "https://localhost:8080/"
        },
        "id": "xYNtDXaMqG14",
        "outputId": "fab017fa-792c-4bec-eb49-86dcce6584d9"
      },
      "outputs": [
        {
          "name": "stdout",
          "output_type": "stream",
          "text": [
            "\n",
            "=== SUMMARY HASIL EKSPERIMEN ===\n",
            "Lag 1 hari: R² = 0.198\n",
            "Lag 2 hari: R² = 0.367\n",
            "Lag 3 hari: R² = 0.496\n",
            "Lag 4 hari: R² = 0.440\n",
            "Lag 5 hari: R² = 0.517\n",
            "\n",
            "Model terbaik: 5 hari dengan R² = 0.517\n"
          ]
        }
      ],
      "source": [
        "# Tampilkan summary\n",
        "print(\"\\n=== SUMMARY HASIL EKSPERIMEN ===\")\n",
        "for i, lag in enumerate(['1', '2', '3', '4', '5']):\n",
        "    print(f\"Lag {lag} hari: R² = {y[i]:.3f}\")\n",
        "\n",
        "best_lag = x[y.index(max(y))]\n",
        "print(f\"\\nModel terbaik: {best_lag} dengan R² = {max(y):.3f}\")"
      ]
    },
    {
      "cell_type": "markdown",
      "metadata": {
        "id": "EN6evM1Pqkmt"
      },
      "source": [
        "## Mengapa Nilai R-Squared Rendah pada Eksperimen?\n",
        "Hasil eksperimen menunjukkan bahwa nilai R-Squared (R²) relatif rendah, berkisar antara 0.198 hingga 0.517, dengan model terbaik terdapat pada lag 5 hari (R² = 0.517). Nilai R² yang rendah menandakan bahwa variasi kadar NO₂ hari ini tidak dapat dijelaskan dengan baik hanya oleh data NO₂ beberapa hari sebelumnya.\n",
        "\n",
        "Secara keseluruhan, meskipun nilai tertinggi (0.517) menunjukkan bahwa model tersebut memiliki kemampuan prediksi yang sedang, tidak ada satu pun model lag yang mencapai tingkat R-Squared yang secara umum dianggap \"tinggi\" (yaitu, > 0.70 atau > 0.80) dalam konteks pemodelan ilmiah atau prediksi yang kuat.\n",
        "\n",
        "Fenomena ini wajar, karena Variabel lingkungan lain tidak disertakan dalam model. Seperti suhu, kecepatan angin, curah hujan, dan aktivitas kendaraan yang secara nyata memengaruhi penyebaran dan konsentrasi NO₂. Dengan demikian, KNN hanya “menebak” dari pola serupa di masa lalu menggunakan informasi yang sangat terbatas."
      ]
    },
    {
      "cell_type": "code",
      "execution_count": 38,
      "metadata": {
        "colab": {
          "base_uri": "https://localhost:8080/"
        },
        "id": "qDiz5ZiKqJXp",
        "outputId": "c7a7b777-7928-475d-fb8f-d0931c456cae"
      },
      "outputs": [
        {
          "name": "stdout",
          "output_type": "stream",
          "text": [
            "PREDIKSI NO₂ HARI BERIKUTNYA\n",
            "============================================================\n",
            "\n",
            "=== LAG 1 HARI ===\n",
            "Dataset shape: (92, 2)\n",
            "Columns: ['NO2', 't-1']\n",
            "Features: ['t-1']\n",
            "Last row features: ['0.000008']\n",
            "Feature columns dan nilai terakhir:\n",
            "  t-1: 0.000008\n",
            "Prediksi hari berikutnya: 0.000013\n",
            "\n",
            "=== LAG 2 HARI ===\n",
            "Dataset shape: (91, 3)\n",
            "Columns: ['NO2', 't-1', 't-2']\n",
            "Features: ['t-1', 't-2']\n",
            "Last row features: ['0.000008', '0.000008']\n",
            "Feature columns dan nilai terakhir:\n",
            "  t-1: 0.000008\n",
            "  t-2: 0.000008\n",
            "Prediksi hari berikutnya: 0.000013\n",
            "\n",
            "=== LAG 3 HARI ===\n",
            "Dataset shape: (90, 4)\n",
            "Columns: ['NO2', 't-1', 't-2', 't-3']\n",
            "Features: ['t-1', 't-2', 't-3']\n",
            "Last row features: ['0.000008', '0.000008', '0.000008']\n",
            "Feature columns dan nilai terakhir:\n",
            "  t-1: 0.000008\n",
            "  t-2: 0.000008\n",
            "  t-3: 0.000008\n",
            "Prediksi hari berikutnya: 0.000014\n",
            "\n",
            "=== LAG 4 HARI ===\n",
            "Dataset shape: (89, 5)\n",
            "Columns: ['NO2', 't-1', 't-2', 't-3', 't-4']\n",
            "Features: ['t-1', 't-2', 't-3', 't-4']\n",
            "Last row features: ['0.000008', '0.000008', '0.000008', '0.000009']\n",
            "Feature columns dan nilai terakhir:\n",
            "  t-1: 0.000008\n",
            "  t-2: 0.000008\n",
            "  t-3: 0.000008\n",
            "  t-4: 0.000009\n",
            "Prediksi hari berikutnya: 0.000015\n",
            "\n",
            "=== LAG 5 HARI ===\n",
            "Dataset shape: (88, 6)\n",
            "Columns: ['NO2', 't-1', 't-2', 't-3', 't-4', 't-5']\n",
            "Features: ['t-1', 't-2', 't-3', 't-4', 't-5']\n",
            "Last row features: ['0.000008', '0.000008', '0.000008', '0.000009', '0.000009']\n",
            "Feature columns dan nilai terakhir:\n",
            "  t-1: 0.000008\n",
            "  t-2: 0.000008\n",
            "  t-3: 0.000008\n",
            "  t-4: 0.000009\n",
            "  t-5: 0.000009\n",
            "Prediksi hari berikutnya: 0.000016\n",
            "\n",
            "============================================================\n",
            "SUMMARY PREDIKSI SEMUA MODEL\n",
            "============================================================\n",
            "LAG 1 HARI: 0.000013 mol/m²\n",
            "LAG 2 HARI: 0.000013 mol/m²\n",
            "LAG 3 HARI: 0.000014 mol/m²\n",
            "LAG 4 HARI: 0.000015 mol/m²\n",
            "LAG 5 HARI: 0.000016 mol/m²\n"
          ]
        },
        {
          "name": "stderr",
          "output_type": "stream",
          "text": [
            "/usr/local/lib/python3.12/dist-packages/sklearn/utils/validation.py:2739: UserWarning: X does not have valid feature names, but StandardScaler was fitted with feature names\n",
            "  warnings.warn(\n",
            "/usr/local/lib/python3.12/dist-packages/sklearn/utils/validation.py:2739: UserWarning: X does not have valid feature names, but StandardScaler was fitted with feature names\n",
            "  warnings.warn(\n",
            "/usr/local/lib/python3.12/dist-packages/sklearn/utils/validation.py:2739: UserWarning: X does not have valid feature names, but StandardScaler was fitted with feature names\n",
            "  warnings.warn(\n",
            "/usr/local/lib/python3.12/dist-packages/sklearn/utils/validation.py:2739: UserWarning: X does not have valid feature names, but StandardScaler was fitted with feature names\n",
            "  warnings.warn(\n",
            "/usr/local/lib/python3.12/dist-packages/sklearn/utils/validation.py:2739: UserWarning: X does not have valid feature names, but StandardScaler was fitted with feature names\n",
            "  warnings.warn(\n"
          ]
        }
      ],
      "source": [
        "def predict_next_day(model, scaler, feature_values):\n",
        "    \"\"\"\n",
        "    Prediksi nilai NO2 hari berikutnya dengan input yang benar\n",
        "    \"\"\"\n",
        "    import numpy as np\n",
        "\n",
        "    # Reshape input untuk prediksi\n",
        "    input_data = np.array(feature_values).reshape(1, -1)\n",
        "\n",
        "    # Normalisasi input\n",
        "    input_scaled = scaler.transform(input_data)\n",
        "\n",
        "    # Prediksi\n",
        "    prediction = model.predict(input_scaled)[0]\n",
        "\n",
        "    return prediction\n",
        "\n",
        "def predict_all_models():\n",
        "    \"\"\"\n",
        "    Prediksi menggunakan semua model lag - VERSI YANG DIPERBAIKI\n",
        "    \"\"\"\n",
        "\n",
        "    models_data = [\n",
        "        (day1, 1, \"LAG 1 HARI\"),\n",
        "        (day2, 2, \"LAG 2 HARI\"),\n",
        "        (day3, 3, \"LAG 3 HARI\"),\n",
        "        (day4, 4, \"LAG 4 HARI\"),\n",
        "        (day5, 5, \"LAG 5 HARI\")\n",
        "    ]\n",
        "\n",
        "    predictions = {}\n",
        "\n",
        "    for data, lag, name in models_data:\n",
        "        print(f\"\\n=== {name} ===\")\n",
        "        print(f\"Dataset shape: {data.shape}\")\n",
        "        print(f\"Columns: {data.columns.tolist()}\")\n",
        "\n",
        "        # Prepare data\n",
        "        X = data.drop(columns=['NO2'])\n",
        "        y = data['NO2']\n",
        "\n",
        "        print(f\"Features: {X.columns.tolist()}\")\n",
        "\n",
        "        scaler = StandardScaler()\n",
        "        X_scaled = scaler.fit_transform(X)\n",
        "\n",
        "        knn = KNeighborsRegressor(n_neighbors=12)\n",
        "        knn.fit(X_scaled, y)\n",
        "\n",
        "        # Ambil feature values dari baris terakhir\n",
        "        last_row_features = X.iloc[-1].values\n",
        "        print(f\"Last row features: {[f'{v:.6f}' for v in last_row_features]}\")\n",
        "\n",
        "        print(f\"Feature columns dan nilai terakhir:\")\n",
        "        for i, col in enumerate(X.columns):\n",
        "            print(f\"  {col}: {last_row_features[i]:.6f}\")\n",
        "\n",
        "        # Prediksi\n",
        "        prediction = predict_next_day(knn, scaler, last_row_features)\n",
        "        predictions[name] = prediction\n",
        "\n",
        "        print(f\"Prediksi hari berikutnya: {prediction:.6f}\")\n",
        "\n",
        "    return predictions\n",
        "\n",
        "# Jalankan prediksi yang sudah diperbaiki\n",
        "print(\"PREDIKSI NO₂ HARI BERIKUTNYA\")\n",
        "print(\"=\" * 60)\n",
        "\n",
        "corrected_predictions = predict_all_models()\n",
        "\n",
        "# Summary prediksi\n",
        "print(\"\\n\" + \"=\"*60)\n",
        "print(\"SUMMARY PREDIKSI SEMUA MODEL\")\n",
        "print(\"=\"*60)\n",
        "for model_name, prediction in corrected_predictions.items():\n",
        "    print(f\"{model_name}: {prediction:.6f} mol/m²\")"
      ]
    }
  ],
  "metadata": {
    "colab": {
      "provenance": []
    },
    "kernelspec": {
      "display_name": "Python 3",
      "name": "python3"
    },
    "language_info": {
      "name": "python"
    }
  },
  "nbformat": 4,
  "nbformat_minor": 0
}
