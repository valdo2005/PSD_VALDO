{
 "cells": [
  {
   "cell_type": "markdown",
   "metadata": {
    "id": "eLJ5LlSqxo6t"
   },
   "source": [
    "# Business Understanding: Prediksi Kadar NO₂ di Kota Pematang Siantar\n",
    "## Latar Belakang\n",
    "Kualitas udara merupakan salah satu indikator penting dalam menilai kesehatan lingkungan perkotaan. Salah satu parameter utama dalam menilai kualitas udara adalah kadar Nitrogen Dioksida (NO₂), gas pencemar yang dihasilkan terutama dari aktivitas transportasi, pembakaran bahan bakar fosil, dan proses industri. Konsentrasi NO₂ yang tinggi dapat menimbulkan dampak negatif terhadap kesehatan manusia seperti gangguan pernapasan, serta berkontribusi terhadap pembentukan ozon troposferik dan hujan asam.\n",
    "\n",
    "Kota Pematang Siantar merupakan salah satu wilayah perkotaan di Sumatera Utara dengan tingkat aktivitas transportasi dan kepadatan penduduk yang relatif tinggi. Namun, sistem pemantauan kualitas udara di daerah ini masih terbatas. Dengan kemajuan teknologi penginderaan jauh, data satelit seperti Sentinel-5P (Sentinel-5 Precursor) yang dikembangkan oleh European Space Agency (ESA) dan tersedia melalui Copernicus Dataspace Ecosystem, memungkinkan analisis spasial dan temporal terhadap konsentrasi NO₂ secara lebih sistematis dan berkelanjutan.\n",
    "\n",
    "Penelitian ini memanfaatkan data pengamatan Sentinel-5P untuk membangun model prediksi kadar NO₂ harian (jangka pendek) di wilayah Pematang Siantar. Dengan pendekatan ini, diharapkan dapat dihasilkan sistem prediksi yang mampu memberikan gambaran awal mengenai potensi peningkatan polusi udara dalam waktu dekat (besok hingga lusa).\n",
    "\n",
    "## Permasalahan\n",
    "Permasalahan utama yang ingin diselesaikan dalam penelitian ini adalah bagaimana memprediksi kadar NO₂ harian pada periode waktu jangka pendek dengan memanfaatkan data historis dari satelit Sentinel-5P.\n",
    "\n",
    "Tantangan utama meliputi:\n",
    "- Keterbatasan resolusi spasial dan temporal data satelit terhadap fenomena lokal.\n",
    "\n",
    "- Penentuan metode pemodelan regresi yang tepat untuk menghasilkan prediksi yang akurat dan reliabel.\n",
    "- Pemanfaatkan data historis konsentrasi NO₂ untuk memprediksi kadar NO₂ pada hari berikutnya"
   ]
  },
  {
   "cell_type": "markdown",
   "metadata": {
    "id": "RfNmMSca0Nwe"
   },
   "source": [
    "## Tujuan\n",
    "Proyek ini bertujuan untuk membangun sistem prediksi konsentrasi NO₂ harian menggunakan pendekatan machine learning, khususnya algoritma K-Nearest Neighbors Regression (KNN Regression).\n",
    "\n",
    "Tujuan utamanya adalah:\n",
    "- Mengolah dan mengekstraksi data kadar NO₂ dari citra Sentinel-5P untuk wilayah Pematang Siantar dalam periode tiga bulan terakhir.\n",
    "\n",
    "- Melakukan preprocessing data untuk menghasilkan dataset time-series yang bersih dan siap dianalisis.\n",
    "\n",
    "- Membangun model prediksi jangka pendek kadar NO₂ menggunakan algoritma KNN regresion berbasis data historis.\n",
    "\n",
    "- Mengevaluasi performa model berdasarkan metrik error seperti MAE, MSE dan R-Squared.\n",
    "\n",
    "- Menilai potensi penerapan hasil prediksi sebagai sistem peringatan dini terhadap peningkatan polusi udara."
   ]
  },
  {
   "cell_type": "markdown",
   "metadata": {
    "id": "VRaEetU-1Yb-"
   },
   "source": [
    "## Manfaat\n",
    "Hasil analisis ini diharapkan memberikan manfaat strategis bagi berbagai pihak, antara lain:\n",
    "\n",
    "- Pemerintah Daerah/Dinas Lingkungan Hidup (DLH): Mendukung proses pemantauan kualitas udara dengan sistem prediksi sederhana dan hemat sumber daya.\n",
    "\n",
    "- Masyarakat: Mendapatkan informasi dini tentang potensi peningkatan polusi udara untuk mencegah dampak kesehatan.\n",
    "\n",
    "- Peneliti/Akademisi : Menjadi contoh penerapan model regresi non-parametrik (KNN Regression) dalam bidang prediksi lingkungan berbasis data terbuka.\n",
    "\n",
    "\n",
    "## Ruang Lingkup\n",
    "Proyek ini difokuskan pada prediksi konsentrasi NO₂ harian di wilayah tertentu berdasarkan data yang diperoleh dari Copernicus Data Space Ecosystem (melalui API openEO).\n",
    "\n",
    "Ciri utama dataset:\n",
    "\n",
    "- Data diambil dari citra satelit Copernicus Sentinel.\n",
    "\n",
    "- Variabel utama: konsentrasi NO₂ per hari.\n",
    "\n",
    "- Periode data: 3 bulan terakhir (historical daily data).\n",
    "\n",
    "- Data digunakan untuk membangun model prediksi kadar NO₂ pada hari berikutnya (t+1).\n",
    "\n",
    "Pendekatan model yang digunakan adalah K-Nearest Neighbors Regression (KNN Regression), yang memprediksi nilai berdasarkan kesamaan data historis (jarak antara titik data).\n",
    "\n",
    "Model ini dipilih karena:\n",
    "\n",
    "- Sederhana dan mudah diterapkan.\n",
    "\n",
    "- Tidak mengasumsikan bentuk hubungan linear antar data.\n",
    "\n",
    "- Cocok untuk data lingkungan yang sering bersifat non-linear dan fluktuatif.\n",
    "\n",
    "\n",
    "## Indikator Keberhasilan\n",
    "Indikator keberhasilan penelitian ini dibagi menjadi dua aspek:\n",
    "\n",
    "1. Indikator Teknis:\n",
    "    - Nilai Root Mean Square Error (RMSE), Mean Absolute Error (MAE), dan Mean Absolute Percentage Error (MAPE) berada pada tingkat yang menunjukkan akurasi model prediksi yang baik.\n",
    "    - Model mampu mengikuti pola perubahan kadar NO₂ aktual berdasarkan tren historis.\n",
    "\n",
    "2. Indikator Bisnis (Konteks Lingkungan):\n",
    "    - Prediksi yang dihasilkan dapat berfungsi sebagai peringatan dini terhadap peningkatan kadar NO₂ pada hari berikutnya.\n",
    "\n",
    "    - Sistem dapat membantu meningkatkan kesadaran masyarakat dan kebijakan mitigasi terhadap polusi udara."
   ]
  },
  {
   "cell_type": "markdown",
   "metadata": {
    "id": "7uALfIvv3A0l"
   },
   "source": []
  },
  {
   "cell_type": "code",
   "execution_count": null,
   "metadata": {
    "id": "Jm0bZYs-xO3R"
   },
   "outputs": [],
   "source": []
  }
 ],
 "metadata": {
  "colab": {
   "provenance": []
  },
  "kernelspec": {
   "display_name": "Python 3",
   "name": "python3"
  },
  "language_info": {
   "name": "python"
  }
 },
 "nbformat": 4,
 "nbformat_minor": 0
}